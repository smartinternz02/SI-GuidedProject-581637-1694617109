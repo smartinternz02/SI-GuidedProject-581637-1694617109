{
  "nbformat": 4,
  "nbformat_minor": 0,
  "metadata": {
    "colab": {
      "provenance": []
    },
    "kernelspec": {
      "name": "python3",
      "display_name": "Python 3"
    },
    "language_info": {
      "name": "python"
    }
  },
  "cells": [
    {
      "cell_type": "markdown",
      "source": [
        "Logistic Regression"
      ],
      "metadata": {
        "id": "IxSfHMjaeCtb"
      }
    },
    {
      "cell_type": "code",
      "execution_count": 1,
      "metadata": {
        "colab": {
          "base_uri": "https://localhost:8080/"
        },
        "id": "3FLEZj_Uaf38",
        "outputId": "c1f60148-dcdb-4e86-e753-dbe73959b000"
      },
      "outputs": [
        {
          "output_type": "stream",
          "name": "stdout",
          "text": [
            "Accuracy: 0.891156462585034\n",
            "Confusion Matrix:\n",
            " [[249   6]\n",
            " [ 26  13]]\n",
            "Classification Report:\n",
            "               precision    recall  f1-score   support\n",
            "\n",
            "          No       0.91      0.98      0.94       255\n",
            "         Yes       0.68      0.33      0.45        39\n",
            "\n",
            "    accuracy                           0.89       294\n",
            "   macro avg       0.79      0.65      0.69       294\n",
            "weighted avg       0.88      0.89      0.87       294\n",
            "\n"
          ]
        }
      ],
      "source": [
        "# Import necessary libraries\n",
        "import pandas as pd\n",
        "import numpy as np\n",
        "import matplotlib.pyplot as plt\n",
        "\n",
        "from sklearn.model_selection import train_test_split\n",
        "from sklearn.preprocessing import LabelEncoder, StandardScaler\n",
        "from sklearn.linear_model import LogisticRegression\n",
        "from sklearn.metrics import accuracy_score, classification_report, confusion_matrix\n",
        "\n",
        "# Load your dataset (replace 'your_dataset.csv' with the actual file path)\n",
        "data = pd.read_csv('/content/WA_Fn-UseC_-HR-Employee-Attrition.csv')\n",
        "\n",
        "# Preprocessing\n",
        "# Encode categorical variables\n",
        "encoder = LabelEncoder()\n",
        "data['BusinessTravel'] = encoder.fit_transform(data['BusinessTravel'])\n",
        "data['Department'] = encoder.fit_transform(data['Department'])\n",
        "data['EducationField'] = encoder.fit_transform(data['EducationField'])\n",
        "data['Gender'] = encoder.fit_transform(data['Gender'])\n",
        "data['JobRole'] = encoder.fit_transform(data['JobRole'])\n",
        "data['MaritalStatus'] = encoder.fit_transform(data['MaritalStatus'])\n",
        "data['Over18'] = encoder.fit_transform(data['Over18'])\n",
        "data['OverTime'] = encoder.fit_transform(data['OverTime'])\n",
        "\n",
        "# Define the features and target variable\n",
        "X = data.drop(['Attrition'], axis=1)\n",
        "y = data['Attrition']\n",
        "\n",
        "# Split the dataset into training and testing sets\n",
        "X_train, X_test, y_train, y_test = train_test_split(X, y, test_size=0.2, random_state=42)\n",
        "\n",
        "# Feature scaling (optional but can help improve model performance)\n",
        "scaler = StandardScaler()\n",
        "X_train = scaler.fit_transform(X_train)\n",
        "X_test = scaler.transform(X_test)\n",
        "\n",
        "# Create and train the logistic regression model\n",
        "model = LogisticRegression()\n",
        "model.fit(X_train, y_train)\n",
        "\n",
        "# Make predictions on the test set\n",
        "y_pred = model.predict(X_test)\n",
        "\n",
        "# Evaluate the model\n",
        "accuracy = accuracy_score(y_test, y_pred)\n",
        "confusion = confusion_matrix(y_test, y_pred)\n",
        "classification_rep = classification_report(y_test, y_pred)\n",
        "\n",
        "# Print the results\n",
        "print(\"Accuracy:\", accuracy)\n",
        "print(\"Confusion Matrix:\\n\", confusion)\n",
        "print(\"Classification Report:\\n\", classification_rep)\n"
      ]
    },
    {
      "cell_type": "markdown",
      "source": [],
      "metadata": {
        "id": "Hpa7D_gfeBKg"
      }
    },
    {
      "cell_type": "code",
      "source": [
        "import seaborn as sns\n",
        "from sklearn.metrics import roc_curve, auc\n",
        "\n",
        "# Convert 'Yes' and 'No' to 1 and 0 in y_test\n",
        "y_test_binary = y_test.map({'Yes': 1, 'No': 0})\n",
        "\n",
        "# Visualize the ROC curve for the test set\n",
        "fpr, tpr, _ = roc_curve(y_test_binary, model.predict_proba(X_test)[:, 1])\n",
        "roc_auc = auc(fpr, tpr)\n",
        "\n",
        "plt.figure(figsize=(8, 6))\n",
        "plt.plot(fpr, tpr, color='darkorange', lw=2, label=f'ROC curve (AUC = {roc_auc:.2f})')\n",
        "plt.plot([0, 1], [0, 1], color='navy', lw=2, linestyle='--')\n",
        "plt.xlim([0.0, 1.0])\n",
        "plt.ylim([0.0, 1.05])\n",
        "plt.xlabel('False Positive Rate')\n",
        "plt.ylabel('True Positive Rate')\n",
        "plt.title('Receiver Operating Characteristic (ROC) Curve - Test Set')\n",
        "plt.legend(loc='lower right')\n",
        "plt.show()\n"
      ],
      "metadata": {
        "colab": {
          "base_uri": "https://localhost:8080/"
        },
        "id": "6YQ1CPulbXUI",
        "outputId": "f5d566bc-d18b-4001-a81b-a639175c234d"
      },
      "execution_count": 12,
      "outputs": [
        {
          "output_type": "stream",
          "name": "stdout",
          "text": [
            "Decision Tree Classifier Results:\n",
            "Accuracy: 0.7653061224489796\n",
            "Confusion Matrix:\n",
            " [[218  37]\n",
            " [ 32   7]]\n",
            "Classification Report:\n",
            "               precision    recall  f1-score   support\n",
            "\n",
            "          No       0.87      0.85      0.86       255\n",
            "         Yes       0.16      0.18      0.17        39\n",
            "\n",
            "    accuracy                           0.77       294\n",
            "   macro avg       0.52      0.52      0.52       294\n",
            "weighted avg       0.78      0.77      0.77       294\n",
            "\n"
          ]
        }
      ]
    },
    {
      "cell_type": "markdown",
      "source": [
        "Decision Tree\n"
      ],
      "metadata": {
        "id": "KTLLNu9YeJaw"
      }
    },
    {
      "cell_type": "code",
      "source": [
        "from sklearn.tree import DecisionTreeClassifier\n",
        "\n",
        "# Create and train the Decision Tree model\n",
        "dt_model = DecisionTreeClassifier(random_state=42)\n",
        "dt_model.fit(X_train, y_train)\n",
        "\n",
        "# Make predictions on the test set\n",
        "y_dt_pred = dt_model.predict(X_test)\n",
        "\n",
        "# Evaluate the Decision Tree model\n",
        "accuracy_dt = accuracy_score(y_test, y_dt_pred)\n",
        "confusion_dt = confusion_matrix(y_test, y_dt_pred)\n",
        "classification_rep_dt = classification_report(y_test, y_dt_pred)\n",
        "\n",
        "# Print the results\n",
        "print(\"Decision Tree Classifier Results:\")\n",
        "print(\"Accuracy:\", accuracy_dt)\n",
        "print(\"Confusion Matrix:\\n\", confusion_dt)\n",
        "print(\"Classification Report:\\n\", classification_rep_dt)\n"
      ],
      "metadata": {
        "colab": {
          "base_uri": "https://localhost:8080/"
        },
        "id": "DirKaxoweUC8",
        "outputId": "3fc64e77-381b-41b4-f9d1-495044f7d047"
      },
      "execution_count": 13,
      "outputs": [
        {
          "output_type": "stream",
          "name": "stdout",
          "text": [
            "Decision Tree Classifier Results:\n",
            "Accuracy: 0.7653061224489796\n",
            "Confusion Matrix:\n",
            " [[218  37]\n",
            " [ 32   7]]\n",
            "Classification Report:\n",
            "               precision    recall  f1-score   support\n",
            "\n",
            "          No       0.87      0.85      0.86       255\n",
            "         Yes       0.16      0.18      0.17        39\n",
            "\n",
            "    accuracy                           0.77       294\n",
            "   macro avg       0.52      0.52      0.52       294\n",
            "weighted avg       0.78      0.77      0.77       294\n",
            "\n"
          ]
        }
      ]
    },
    {
      "cell_type": "markdown",
      "source": [
        "Random Forest\n"
      ],
      "metadata": {
        "id": "rTCKWWryibFF"
      }
    },
    {
      "cell_type": "code",
      "source": [
        "from sklearn.ensemble import RandomForestClassifier\n",
        "\n",
        "# Create and train the Random Forest model\n",
        "rf_model = RandomForestClassifier(random_state=42)\n",
        "rf_model.fit(X_train, y_train)\n",
        "\n",
        "# Make predictions on the test set\n",
        "y_rf_pred = rf_model.predict(X_test)\n",
        "\n",
        "# Evaluate the Random Forest model\n",
        "accuracy_rf = accuracy_score(y_test, y_rf_pred)\n",
        "confusion_rf = confusion_matrix(y_test, y_rf_pred)\n",
        "classification_rep_rf = classification_report(y_test, y_rf_pred)\n",
        "\n",
        "# Print the results\n",
        "print(\"Random Forest Classifier Results:\")\n",
        "print(\"Accuracy:\", accuracy_rf)\n",
        "print(\"Confusion Matrix:\\n\", confusion_rf)\n",
        "print(\"Classification Report:\\n\", classification_rep_rf)\n",
        "\n",
        "import seaborn as sns\n",
        "from sklearn.metrics import roc_curve, auc\n",
        "\n",
        "# Convert 'Yes' and 'No' to 1 and 0 in y_test\n",
        "y_test_binary = y_test.map({'Yes': 1, 'No': 0})\n",
        "\n",
        "# Visualize the ROC curve for the Random Forest model\n",
        "fpr_rf, tpr_rf, _ = roc_curve(y_test_binary, rf_model.predict_proba(X_test)[:, 1])\n",
        "roc_auc_rf = auc(fpr_rf, tpr_rf)\n",
        "\n",
        "plt.figure(figsize=(8, 6))\n",
        "plt.plot(fpr_rf, tpr_rf, color='darkorange', lw=2, label=f'ROC curve (AUC = {roc_auc_rf:.2f})')\n",
        "plt.plot([0, 1], [0, 1], color='navy', lw=2, linestyle='--')\n",
        "plt.xlim([0.0, 1.0])\n",
        "plt.ylim([0.0, 1.05])\n",
        "plt.xlabel('False Positive Rate')\n",
        "plt.ylabel('True Positive Rate')\n",
        "plt.title('Random Forest Classifier - ROC Curve - Test Set')\n",
        "plt.legend(loc='lower right')\n",
        "plt.show()\n"
      ],
      "metadata": {
        "colab": {
          "base_uri": "https://localhost:8080/",
          "height": 824
        },
        "id": "P6mXp9MNidD3",
        "outputId": "bcb16757-37b2-44ac-add0-790b27b45de9"
      },
      "execution_count": 14,
      "outputs": [
        {
          "output_type": "stream",
          "name": "stdout",
          "text": [
            "Random Forest Classifier Results:\n",
            "Accuracy: 0.8639455782312925\n",
            "Confusion Matrix:\n",
            " [[250   5]\n",
            " [ 35   4]]\n",
            "Classification Report:\n",
            "               precision    recall  f1-score   support\n",
            "\n",
            "          No       0.88      0.98      0.93       255\n",
            "         Yes       0.44      0.10      0.17        39\n",
            "\n",
            "    accuracy                           0.86       294\n",
            "   macro avg       0.66      0.54      0.55       294\n",
            "weighted avg       0.82      0.86      0.83       294\n",
            "\n"
          ]
        },
        {
          "output_type": "display_data",
          "data": {
            "text/plain": [
              "<Figure size 800x600 with 1 Axes>"
            ],
            "image/png": "[encoded data removed]"
          },
          "metadata": {}
        }
      ]
    },
    {
      "cell_type": "markdown",
      "source": [
        "Random"
      ],
      "metadata": {
        "id": "_c5G4xIGfz1Q"
      }
    }
  ]
}