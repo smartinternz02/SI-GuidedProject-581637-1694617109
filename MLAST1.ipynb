{
  "nbformat": 4,
  "nbformat_minor": 0,
  "metadata": {
    "colab": {
      "provenance": []
    },
    "kernelspec": {
      "name": "python3",
      "display_name": "Python 3"
    },
    "language_info": {
      "name": "python"
    }
  },
  "cells": [
    {
      "cell_type": "code",
      "execution_count": null,
      "metadata": {
        "colab": {
          "base_uri": "https://localhost:8080/"
        },
        "id": "mPcLyNjegLtJ",
        "outputId": "3b0d62a7-4916-4eed-96cf-b323d8d4214f"
      },
      "outputs": [
        {
          "output_type": "stream",
          "name": "stdout",
          "text": [
            "Task 2:\n",
            "<class 'pandas.core.frame.DataFrame'>\n",
            "RangeIndex: 10 entries, 0 to 9\n",
            "Data columns (total 5 columns):\n",
            " #   Column    Non-Null Count  Dtype  \n",
            "---  ------    --------------  -----  \n",
            " 0   Feature1  10 non-null     float64\n",
            " 1   Feature2  10 non-null     int64  \n",
            " 2   Feature3  10 non-null     object \n",
            " 3   Feature4  10 non-null     float64\n",
            " 4   Feature5  10 non-null     bool   \n",
            "dtypes: bool(1), float64(2), int64(1), object(1)\n",
            "memory usage: 458.0+ bytes\n",
            "None\n",
            "\n",
            "\n",
            "Task 3:\n",
            "        Feature1   Feature2   Feature4\n",
            "count  10.000000  10.000000  10.000000\n",
            "mean    0.467122  59.800000   0.042195\n",
            "std     0.320374  22.807406   1.406661\n",
            "min     0.024995  31.000000  -2.257287\n",
            "25%     0.211608  40.250000  -0.949847\n",
            "50%     0.498421  55.000000   0.166023\n",
            "75%     0.607358  78.500000   1.128782\n",
            "max     0.968438  93.000000   2.007662\n",
            "\n",
            "\n",
            "Task 4:\n",
            "Feature1    0.576538\n",
            "Feature2          93\n",
            "Feature3           A\n",
            "Feature4    0.034059\n",
            "Feature5        True\n",
            "Name: 3, dtype: object\n",
            "\n",
            "\n",
            "Task 5:\n",
            "Feature1    0\n",
            "Feature2    0\n",
            "Feature3    0\n",
            "Feature4    0\n",
            "Feature5    0\n",
            "dtype: int64\n"
          ]
        }
      ],
      "source": [
        "import pandas as pd\n",
        "import numpy as np\n",
        "\n",
        "# Task 1\n",
        "data = {\n",
        "    'Feature1': np.random.rand(10),\n",
        "    'Feature2': np.random.randint(1, 100, 10),\n",
        "    'Feature3': np.random.choice(['A', 'B', 'C'], 10),\n",
        "    'Feature4': np.random.randn(10),\n",
        "    'Feature5': np.random.choice([True, False], 10)\n",
        "}\n",
        "\n",
        "df = pd.DataFrame(data)\n",
        "\n",
        "# Task 2\n",
        "print(\"Task 2:\")\n",
        "print(df.info())\n",
        "print(\"\\n\")\n",
        "\n",
        "# Task 3\n",
        "print(\"Task 3:\")\n",
        "print(df.describe())\n",
        "print(\"\\n\")\n",
        "\n",
        "# Task 4\n",
        "print(\"Task 4:\")\n",
        "print(df.loc[3])\n",
        "print(\"\\n\")\n",
        "\n",
        "# Task 5\n",
        "print(\"Task 5:\")\n",
        "print(df.isnull().sum())\n"
      ]
    },
    {
      "cell_type": "code",
      "source": [],
      "metadata": {
        "id": "ABWUY3HVgM3C"
      },
      "execution_count": null,
      "outputs": []
    }
  ]
}